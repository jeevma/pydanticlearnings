{
 "cells": [
  {
   "cell_type": "markdown",
   "id": "b82aeee7",
   "metadata": {},
   "source": []
  },
  {
   "cell_type": "code",
   "execution_count": 1,
   "id": "990ac7ee",
   "metadata": {},
   "outputs": [
    {
     "name": "stdout",
     "output_type": "stream",
     "text": [
      "User(id='123', name=b'Invalid Name', friends=[1, 2, '3'])\n"
     ]
    }
   ],
   "source": [
    "from dataclasses import dataclass\n",
    "\n",
    "@dataclass\n",
    "class User:\n",
    "    id: int\n",
    "    name: str = \"John Doe\"\n",
    "    friends: list[int] = None\n",
    "\n",
    "user = User(id=\"123\", name=b\"Invalid Name\", friends=[1, 2, \"3\"])\n",
    "print(user)\n",
    "#> User(id='123', name=b'Invalid Name', friends=[1, 2, '3'])"
   ]
  },
  {
   "cell_type": "code",
   "execution_count": 3,
   "id": "279aa459",
   "metadata": {},
   "outputs": [],
   "source": [
    "from dataclasses import dataclass\n",
    "\n",
    "@dataclass\n",
    "class Person:\n",
    "    name:str\n",
    "    age: int\n",
    "    city: str\n"
   ]
  },
  {
   "cell_type": "code",
   "execution_count": 4,
   "id": "5decbed0",
   "metadata": {},
   "outputs": [
    {
     "name": "stdout",
     "output_type": "stream",
     "text": [
      "Person(name='John Doe', age=30, city='New York')\n"
     ]
    }
   ],
   "source": [
    "person = Person(name=\"John Doe\", age=30, city=\"New York\")\n",
    "print(person)\n"
   ]
  },
  {
   "cell_type": "code",
   "execution_count": 5,
   "id": "fb90072f",
   "metadata": {},
   "outputs": [
    {
     "name": "stdout",
     "output_type": "stream",
     "text": [
      "Person(name='Jeev', age=47, city=35)\n"
     ]
    }
   ],
   "source": [
    "person1 = Person(name=\"Jeev\", age=47, city=35)\n",
    "print(person1)"
   ]
  }
 ],
 "metadata": {
  "kernelspec": {
   "display_name": "venv",
   "language": "python",
   "name": "python3"
  },
  "language_info": {
   "codemirror_mode": {
    "name": "ipython",
    "version": 3
   },
   "file_extension": ".py",
   "mimetype": "text/x-python",
   "name": "python",
   "nbconvert_exporter": "python",
   "pygments_lexer": "ipython3",
   "version": "3.13.0"
  }
 },
 "nbformat": 4,
 "nbformat_minor": 5
}
